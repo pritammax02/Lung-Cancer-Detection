{
  "nbformat": 4,
  "nbformat_minor": 0,
  "metadata": {
    "colab": {
      "provenance": []
    },
    "kernelspec": {
      "name": "python3",
      "display_name": "Python 3"
    },
    "language_info": {
      "name": "python"
    }
  },
  "cells": [
    {
      "cell_type": "code",
      "execution_count": 1,
      "metadata": {
        "colab": {
          "base_uri": "https://localhost:8080/"
        },
        "id": "zP6frpY7E3Se",
        "outputId": "d79c4365-0bb4-45b9-a873-51eff298fb47"
      },
      "outputs": [
        {
          "output_type": "stream",
          "name": "stdout",
          "text": [
            "Plaintext: Ishika Gupta\n",
            "Ciphertext: [(63, 602), (1206, 727), (350, 162), (402, 362), (270, 1016), (747, 886), (1152, 873), (397, 107), (1181, 266), (23, 1220), (329, 119), (47, 1043)]\n",
            "Decrypted Plaintext: Ishika Gupta\n"
          ]
        }
      ],
      "source": [
        "from sympy import randprime, primitive_root, randprime, mod_inverse\n",
        "from random import randint\n",
        "# Generate a prime p and a generator g\n",
        "p = randprime(2**10, 2**12)\n",
        "g = primitive_root(p)\n",
        "# Generate a private key\n",
        "private_key = randint(2, p - 1)\n",
        "# Compute public key\n",
        "public_key = pow(g, private_key, p)\n",
        "# Encryption function\n",
        "def encrypt(char, public_key):\n",
        "    plaintext = ord(char)\n",
        "    # Generate a random ephemeral key\n",
        "    k = randint(2, p - 1)\n",
        "    c1 = pow(g, k, p)\n",
        "    c2 = (plaintext * pow(public_key, k, p)) % p\n",
        "    return (c1, c2)\n",
        "# Decryption function\n",
        "def decrypt(ciphertext, private_key):\n",
        "    c1, c2 = ciphertext\n",
        "    x = pow(c1, private_key, p)\n",
        "    y = mod_inverse(x, p)\n",
        "    plaintext = (c2 * y) % p\n",
        "    return chr(plaintext)\n",
        "# Encryption function for a string of characters\n",
        "def encrypt_string(plaintext, public_key):\n",
        "    ciphertext = []\n",
        "    for char in plaintext:\n",
        "        ciphertext.append(encrypt(char, public_key))\n",
        "    return ciphertext\n",
        "# Decryption function for a string of characters\n",
        "def decrypt_string(ciphertext, private_key, p):\n",
        "    decrypted_plaintext = ''\n",
        "    for char_ciphertext in ciphertext:\n",
        "        decrypted_plaintext += decrypt(char_ciphertext, private_key)\n",
        "    return decrypted_plaintext\n",
        "# Example usage\n",
        "plaintext = 'Ishika Gupta'\n",
        "print(\"Plaintext:\", plaintext)\n",
        "# Encryption\n",
        "ciphertext = encrypt_string(plaintext, public_key)\n",
        "print(\"Ciphertext:\", ciphertext)\n",
        "# Decryption\n",
        "decrypted_plaintext = decrypt_string(ciphertext, private_key, p)\n",
        "print(\"Decrypted Plaintext:\", decrypted_plaintext)"
      ]
    },
    {
      "cell_type": "code",
      "source": [],
      "metadata": {
        "id": "HdiO7KKiFPRj"
      },
      "execution_count": null,
      "outputs": []
    }
  ]
}